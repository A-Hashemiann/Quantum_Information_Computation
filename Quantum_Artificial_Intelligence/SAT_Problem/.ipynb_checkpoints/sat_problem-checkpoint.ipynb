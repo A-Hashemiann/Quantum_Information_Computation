{
 "cells": [
  {
   "cell_type": "code",
   "execution_count": 24,
   "id": "b104208f-867a-47b3-a678-0ee0e79fd942",
   "metadata": {},
   "outputs": [],
   "source": [
    "from qiskit import QuantumCircuit,QuantumRegister,ClassicalRegister\n",
    "from qiskit import transpile\n",
    "from qiskit_aer import QasmSimulator\n",
    "from qiskit.visualization import plot_histogram\n",
    "from qiskit.circuit.library import MCXGate\n",
    "from qiskit.quantum_info import Statevector"
   ]
  },
  {
   "cell_type": "code",
   "execution_count": 25,
   "id": "f4406bd1-09d7-42f1-a76f-f87128c707f5",
   "metadata": {},
   "outputs": [
    {
     "data": {
      "text/plain": [
       "CircuitInstruction(operation=Instruction(name='barrier', num_qubits=8, num_clbits=0, params=[]), qubits=(Qubit(QuantumRegister(8, 'q'), 0), Qubit(QuantumRegister(8, 'q'), 1), Qubit(QuantumRegister(8, 'q'), 2), Qubit(QuantumRegister(8, 'q'), 3), Qubit(QuantumRegister(8, 'q'), 4), Qubit(QuantumRegister(8, 'q'), 5), Qubit(QuantumRegister(8, 'q'), 6), Qubit(QuantumRegister(8, 'q'), 7)), clbits=())"
      ]
     },
     "execution_count": 25,
     "metadata": {},
     "output_type": "execute_result"
    }
   ],
   "source": [
    "q = QuantumRegister(8)\n",
    "c = ClassicalRegister(8)\n",
    "qc = QuantumCircuit(8,8)\n",
    "#Input 0,1,4\n",
    "qc.h(0)\n",
    "qc.h(1)\n",
    "qc.h(4)\n",
    "qc.barrier()"
   ]
  },
  {
   "cell_type": "code",
   "execution_count": 26,
   "id": "d5bc049c-1b2e-4914-8a84-aa7f2a3bf81f",
   "metadata": {},
   "outputs": [
    {
     "data": {
      "image/png": "[encoded data removed]",
      "text/plain": [
       "<Figure size 287.496x785.944 with 1 Axes>"
      ]
     },
     "execution_count": 26,
     "metadata": {},
     "output_type": "execute_result"
    }
   ],
   "source": [
    "qc.draw('mpl')"
   ]
  },
  {
   "cell_type": "markdown",
   "id": "987b40e6-b491-4411-9860-98a5b4024f44",
   "metadata": {},
   "source": [
    "### Logical Formula Representation\n",
    "\n",
    "The Boolean formula is represented as:\n",
    "\n",
    "φ = (x₁ ↔ x₂) ∧ (x₁ ∧ x₂) ∧ ¬x₃\n",
    "\n",
    "#### Components Breakdown:\n",
    "1. **Equivalence**:  \n",
    "   `(x₁ ↔ x₂)` - x₁ if and only if x₂ (XNOR)\n",
    "2. **Conjunction**:  \n",
    "   `(x₁ ∧ x₂)` - Both x₁ AND x₂ must be true\n",
    "3. **Negation**:  \n",
    "   `¬x₃` - x₃ must be false\n",
    "\n",
    "#### Alternative Symbols:\n",
    "- ↔ can be written as `≡` or \"iff\"\n",
    "- ∧ can be written as `AND` or `&`\n",
    "- ¬ can be written as `NOT` or `~`\n",
    "\n",
    "#### Truth Table Preview:\n",
    "| x₁ | x₂ | x₃ | x₁↔x₂ | x₁∧x₂ | ¬x₃ | φ   |\n",
    "|----|----|----|-------|-------|-----|-----|\n",
    "| T  | T  | F  | T     | T     | T   | T   |\n",
    "| Other combinations... | ... | ... | ... | ... | ... | F   |"
   ]
  },
  {
   "cell_type": "markdown",
   "id": "bd8b9267-b9c6-4198-a228-e7d30930e941",
   "metadata": {},
   "source": [
    "### Quantum Oracle Implementation for Logical AND\n",
    "\n",
    "#### Qubit Allocation\n",
    "| Qubit Index | Role          | Initial State |\n",
    "|-------------|---------------|---------------|\n",
    "| 0           | x₁ variable   | |x₁⟩          |\n",
    "| 1           | x₂ variable   | |x₂⟩          |\n",
    "| 2           | Ancilla       | |0⟩           |\n",
    "\n",
    "\n",
    "#### AND Operation Implementation\n",
    "The logical AND (`x₁ ∧ x₂`) is computed using a Toffoli gate:\n",
    "\n",
    "```python\n",
    "qc.ccx(0, 1, 2)  # CCX(control1, control2, target)"
   ]
  },
  {
   "cell_type": "code",
   "execution_count": 27,
   "id": "e84fe791-d431-437a-872d-74da1fd0ca46",
   "metadata": {},
   "outputs": [
    {
     "data": {
      "text/plain": [
       "<qiskit.circuit.instructionset.InstructionSet at 0x21bfda92980>"
      ]
     },
     "execution_count": 27,
     "metadata": {},
     "output_type": "execute_result"
    }
   ],
   "source": [
    "qc.ccx(0,1,2)"
   ]
  },
  {
   "cell_type": "markdown",
   "id": "f4f500ba-3db8-4c3c-8226-2fdf230716ee",
   "metadata": {},
   "source": [
    "### Quantum XNOR (Equivalence) Implementation\n",
    "\n",
    "### Qubit Allocation\n",
    "| Qubit | Role          | Initial State |\n",
    "|-------|---------------|---------------|\n",
    "| 1     | x2 variable   | |x2⟩          |\n",
    "| 3     | x1  fixed to 1| |1⟩           |\n",
    "| 0     | Ancilla       | |0⟩           |\n",
    "\n",
    "## XNOR = NOT(x2 XOR x1) Implementation\n",
    "\n",
    "### Step 1: XOR Computation\n",
    "```python\n",
    "qc.ccx(3, 1, 0)  # CCX(|1⟩,|x2⟩,|0⟩) → |1⟩|x2⟩|x2⊕1⟩"
   ]
  },
  {
   "cell_type": "code",
   "execution_count": 28,
   "id": "693de100-de4a-4b94-af48-deb360b90477",
   "metadata": {},
   "outputs": [
    {
     "data": {
      "text/plain": [
       "<qiskit.circuit.instructionset.InstructionSet at 0x21bfdb52410>"
      ]
     },
     "execution_count": 28,
     "metadata": {},
     "output_type": "execute_result"
    }
   ],
   "source": [
    "qc.x(3)\n",
    "qc.ccx(3,0,1)\n",
    "qc.x(1)"
   ]
  },
  {
   "cell_type": "code",
   "execution_count": 29,
   "id": "7821d194-8188-4b78-a2fd-75400d65fb9c",
   "metadata": {},
   "outputs": [
    {
     "data": {
      "text/plain": [
       "<qiskit.circuit.instructionset.InstructionSet at 0x21bfdb0d5d0>"
      ]
     },
     "execution_count": 29,
     "metadata": {},
     "output_type": "execute_result"
    }
   ],
   "source": [
    "qc.x(3)\n",
    "qc.ccx(1,2,3)\n"
   ]
  },
  {
   "cell_type": "code",
   "execution_count": 30,
   "id": "3a30779c-6c88-4cba-a8d9-58fb7a7b2b4d",
   "metadata": {},
   "outputs": [
    {
     "data": {
      "text/plain": [
       "<qiskit.circuit.instructionset.InstructionSet at 0x21bfbdbbd90>"
      ]
     },
     "execution_count": 30,
     "metadata": {},
     "output_type": "execute_result"
    }
   ],
   "source": [
    "qc.x(4)\n",
    "qc.ccx(3,4,5)"
   ]
  },
  {
   "cell_type": "code",
   "execution_count": 31,
   "id": "efd19972-d10a-4780-bcb9-a3d1fe057d6b",
   "metadata": {},
   "outputs": [
    {
     "data": {
      "image/png": "[encoded data removed]",
      "text/plain": [
       "<Figure size 705.552x785.944 with 1 Axes>"
      ]
     },
     "execution_count": 31,
     "metadata": {},
     "output_type": "execute_result"
    }
   ],
   "source": [
    "qc.draw('mpl')"
   ]
  },
  {
   "cell_type": "code",
   "execution_count": null,
   "id": "2352b38c-0dc5-4832-9a5c-7a69e0cf7dc3",
   "metadata": {},
   "outputs": [],
   "source": []
  }
 ],
 "metadata": {
  "kernelspec": {
   "display_name": "basics(env)",
   "language": "python",
   "name": "basicsenv"
  },
  "language_info": {
   "codemirror_mode": {
    "name": "ipython",
    "version": 3
   },
   "file_extension": ".py",
   "mimetype": "text/x-python",
   "name": "python",
   "nbconvert_exporter": "python",
   "pygments_lexer": "ipython3",
   "version": "3.12.4"
  }
 },
 "nbformat": 4,
 "nbformat_minor": 5
}
